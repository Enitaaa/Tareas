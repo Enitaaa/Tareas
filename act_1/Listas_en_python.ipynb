{
  "cells": [
    {
      "cell_type": "markdown",
      "metadata": {
        "id": "view-in-github",
        "colab_type": "text"
      },
      "source": [
        "<a href=\"https://colab.research.google.com/github/Enitaaa/Tareas/blob/main/Listas_en_python.ipynb\" target=\"_parent\"><img src=\"https://colab.research.google.com/assets/colab-badge.svg\" alt=\"Open In Colab\"/></a>"
      ]
    },
    {
      "cell_type": "markdown",
      "id": "fc1dc49e",
      "metadata": {
        "id": "fc1dc49e"
      },
      "source": [
        "  <img src=\"python.png\" width='100' height='100'>  <center>  Listas en Python </center>"
      ]
    },
    {
      "cell_type": "markdown",
      "id": "57e1aa9d",
      "metadata": {
        "id": "57e1aa9d"
      },
      "source": [
        "Las listas en Python son un tipo de dato que permite almacenar datos de cualquier tipo. Son mutables y dinámicas, lo cual es la principal diferencia con los sets y las tuplas.\n",
        "\n",
        "## Crear listas Python\n",
        "\n",
        "Las listas en Python son uno de los tipos o estructuras de datos más versátiles del lenguaje, ya que permiten almacenar un conjunto arbitrario de datos. Es decir, podemos guardar en ellas prácticamente lo que sea. Si vienes de otros lenguajes de programación, se podría decir que son similares a los arrays."
      ]
    },
    {
      "cell_type": "code",
      "execution_count": 1,
      "id": "ccbfef58",
      "metadata": {
        "id": "ccbfef58"
      },
      "outputs": [],
      "source": [
        "lista = [1, 2, 3, 4]"
      ]
    },
    {
      "cell_type": "code",
      "execution_count": 2,
      "id": "b8351efe",
      "metadata": {
        "id": "b8351efe"
      },
      "outputs": [],
      "source": [
        "# También se puede crear usando list y pasando un objeto iterable.\n",
        "lista = list(\"1234\")"
      ]
    },
    {
      "cell_type": "markdown",
      "id": "ee7809df",
      "metadata": {
        "id": "ee7809df"
      },
      "source": [
        "Una lista sea crea con [] separando sus elementos con comas ,. Una gran ventaja es que pueden almacenar tipos de datos distintos."
      ]
    },
    {
      "cell_type": "code",
      "execution_count": 3,
      "id": "b947e57f",
      "metadata": {
        "id": "b947e57f"
      },
      "outputs": [],
      "source": [
        "lista = [1, \"Hola\", 3.67, [1, 2, 3]]"
      ]
    },
    {
      "cell_type": "markdown",
      "id": "b6273e5b",
      "metadata": {
        "id": "b6273e5b"
      },
      "source": [
        "Algunas propiedades de las listas:\n",
        "\n",
        "Son ordenadas, mantienen el orden en el que han sido definidas\n",
        "Pueden ser formadas por tipos arbitrarios\n",
        "Pueden ser indexadas con [i].\n",
        "Se pueden anidar, es decir, meter una dentro de la otra.\n",
        "Son mutables, ya que sus elementos pueden ser modificados.\n",
        "Son dinámicas, ya que se pueden añadir o eliminar elementos.\n",
        "\n",
        "## Acceder y modificar listas\n",
        "\n",
        "Si tenemos una lista a con 3 elementos almacenados en ella, podemos acceder a los mismos usando corchetes y un índice, que va desde 0 a n-1 siendo n el tamaño de la lista."
      ]
    },
    {
      "cell_type": "code",
      "execution_count": 4,
      "id": "f0aa256d",
      "metadata": {
        "colab": {
          "base_uri": "https://localhost:8080/"
        },
        "id": "f0aa256d",
        "outputId": "4d174d31-de37-4936-af25-dfc638a075b5"
      },
      "outputs": [
        {
          "output_type": "stream",
          "name": "stdout",
          "text": [
            "90\n",
            "Python\n",
            "3.87\n"
          ]
        }
      ],
      "source": [
        "a = [90, \"Python\", 3.87]\n",
        "print(a[0]) #90\n",
        "print(a[1]) #Python\n",
        "print(a[2]) #3.87"
      ]
    },
    {
      "cell_type": "code",
      "execution_count": 5,
      "id": "7eceecd4",
      "metadata": {
        "colab": {
          "base_uri": "https://localhost:8080/"
        },
        "id": "7eceecd4",
        "outputId": "9443aae1-4c10-413d-dd50-8c696e018c36"
      },
      "outputs": [
        {
          "output_type": "stream",
          "name": "stdout",
          "text": [
            "Python\n"
          ]
        }
      ],
      "source": [
        "#Se puede también acceder al último elemento usando el índice [-1]\n",
        "print(a[-2]) #Python"
      ]
    },
    {
      "cell_type": "code",
      "execution_count": 6,
      "id": "dbda4578",
      "metadata": {
        "colab": {
          "base_uri": "https://localhost:8080/"
        },
        "id": "dbda4578",
        "outputId": "906fd465-79c4-43c1-f252-7d8eb3bd33a9"
      },
      "outputs": [
        {
          "output_type": "stream",
          "name": "stdout",
          "text": [
            "[90, 'Python', 1]\n"
          ]
        }
      ],
      "source": [
        "#Y si queremos modificar un elemento de la lista, basta con asignar con el operador = el nuevo valor.\n",
        "a[2] = 1\n",
        "print(a) #[90, 'Python', 1]"
      ]
    },
    {
      "cell_type": "code",
      "execution_count": 7,
      "id": "85ab32c0",
      "metadata": {
        "colab": {
          "base_uri": "https://localhost:8080/"
        },
        "id": "85ab32c0",
        "outputId": "b7c6c02c-2bb5-4623-b189-dfad4acbc15d"
      },
      "outputs": [
        {
          "output_type": "stream",
          "name": "stdout",
          "text": [
            "[1, 3, 4, 5]\n"
          ]
        }
      ],
      "source": [
        "#Un elemento puede ser eliminado con diferentes métodos como veremos a continuación,\n",
        "#o con del y la lista con el índice a eliminar.\n",
        "l = [1, 2, 3, 4, 5]\n",
        "del l[1]\n",
        "print(l) #[1, 3, 4, 5]"
      ]
    },
    {
      "cell_type": "markdown",
      "id": "a6861c50",
      "metadata": {
        "id": "a6861c50"
      },
      "source": [
        "También podemos tener listas anidadas, es decir, una lista dentro de otra. Incluso podemos tener una lista dentro de otra lista y a su vez dentro de otra lista. Para acceder a sus elementos sólo tenemos que usar [] tantas veces como niveles de anidado tengamos."
      ]
    },
    {
      "cell_type": "code",
      "execution_count": 8,
      "id": "de44f673",
      "metadata": {
        "colab": {
          "base_uri": "https://localhost:8080/"
        },
        "id": "de44f673",
        "outputId": "497363d7-0ae9-4d5b-beba-2535cac6ad4b"
      },
      "outputs": [
        {
          "output_type": "stream",
          "name": "stdout",
          "text": [
            "p\n",
            "5\n",
            "7\n"
          ]
        }
      ],
      "source": [
        "x = [1, 2, 3, ['p', 'q', [5, 6, 7]]]\n",
        "print(x[3][0])    #p\n",
        "print(x[3][2][0]) #5\n",
        "print(x[3][2][2]) #7"
      ]
    },
    {
      "cell_type": "code",
      "execution_count": 9,
      "id": "7671cdb8",
      "metadata": {
        "colab": {
          "base_uri": "https://localhost:8080/"
        },
        "id": "7671cdb8",
        "outputId": "f4a77626-d99e-4abb-aae1-23858b820406"
      },
      "outputs": [
        {
          "output_type": "stream",
          "name": "stdout",
          "text": [
            "[0, 0, 0, 4, 5, 6]\n"
          ]
        }
      ],
      "source": [
        "# Y de la misma manera podemos modificar múltiples valores de la lista a la vez usando :\n",
        "l = [1, 2, 3, 4, 5, 6]\n",
        "l[0:3] = [0, 0, 0]\n",
        "print(l) #[0, 0, 0, 4, 5, 6]"
      ]
    },
    {
      "cell_type": "code",
      "execution_count": 10,
      "id": "2aeb0419",
      "metadata": {
        "colab": {
          "base_uri": "https://localhost:8080/"
        },
        "id": "2aeb0419",
        "outputId": "1a0b84d1-6b3b-4694-8999-b191ec72ea01"
      },
      "outputs": [
        {
          "output_type": "stream",
          "name": "stdout",
          "text": [
            "[1, 2, 3, 4, 5]\n"
          ]
        }
      ],
      "source": [
        "# Hay ciertos operadores como el + que pueden ser usados sobre las listas.\n",
        "l = [1, 2, 3]\n",
        "l += [4, 5]\n",
        "print(l) #[1, 2, 3, 4, 5]"
      ]
    },
    {
      "cell_type": "code",
      "execution_count": 11,
      "id": "e2800592",
      "metadata": {
        "id": "e2800592",
        "colab": {
          "base_uri": "https://localhost:8080/"
        },
        "outputId": "d285a13f-c93e-4ecc-ce99-99024165b72f"
      },
      "outputs": [
        {
          "output_type": "stream",
          "name": "stdout",
          "text": [
            "1 2 3\n"
          ]
        }
      ],
      "source": [
        "#Y una funcionalidad muy interesante es que se puede asignar una lista con n elementos a n variables.\n",
        "l = [1, 2, 3]\n",
        "x, y, z = l\n",
        "print(x, y, z) #1 2 3"
      ]
    },
    {
      "cell_type": "markdown",
      "id": "4e413350",
      "metadata": {
        "id": "4e413350"
      },
      "source": [
        "## Iterar listas\n",
        "En Python es muy fácil iterar una lista, mucho más que en otros lenguajes de programación."
      ]
    },
    {
      "cell_type": "code",
      "execution_count": 12,
      "id": "ebf6ff3b",
      "metadata": {
        "colab": {
          "base_uri": "https://localhost:8080/"
        },
        "id": "ebf6ff3b",
        "outputId": "ae53cd0c-f1cf-4c97-fbb6-e3c824a6381a"
      },
      "outputs": [
        {
          "output_type": "stream",
          "name": "stdout",
          "text": [
            "5\n",
            "9\n",
            "10\n"
          ]
        }
      ],
      "source": [
        "lista = [5, 9, 10]\n",
        "for l in lista:\n",
        "    print(l)\n",
        "#5\n",
        "#9\n",
        "#10"
      ]
    },
    {
      "cell_type": "code",
      "execution_count": 13,
      "id": "33b65f8c",
      "metadata": {
        "colab": {
          "base_uri": "https://localhost:8080/"
        },
        "id": "33b65f8c",
        "outputId": "8d2c7811-0592-4bb5-f537-5b3684bec0c0"
      },
      "outputs": [
        {
          "output_type": "stream",
          "name": "stdout",
          "text": [
            "0 5\n",
            "1 9\n",
            "2 10\n"
          ]
        }
      ],
      "source": [
        "# Si necesitamos un índice acompañado con la lista, que tome valores desde 0 hasta n-1, se puede hacer de la siguiente manera.\n",
        "lista = [5, 9, 10]\n",
        "for index, l in enumerate(lista):\n",
        "    print(index, l)\n",
        "#0 5\n",
        "#1 9\n",
        "#2 10"
      ]
    },
    {
      "cell_type": "code",
      "execution_count": 14,
      "id": "3da34a22",
      "metadata": {
        "colab": {
          "base_uri": "https://localhost:8080/"
        },
        "id": "3da34a22",
        "outputId": "83cb2ec2-301d-4872-f4ab-0e6974f91760"
      },
      "outputs": [
        {
          "output_type": "stream",
          "name": "stdout",
          "text": [
            "5 Jazz\n",
            "9 Rock\n",
            "10 Djent\n"
          ]
        }
      ],
      "source": [
        "# O si tenemos dos listas y las queremos iterar a la vez, también es posible hacerlo.\n",
        "lista1 = [5, 9, 10]\n",
        "lista2 = [\"Jazz\", \"Rock\", \"Djent\"]\n",
        "for l1, l2 in zip(lista1, lista2):\n",
        "    print(l1, l2)\n",
        "#5 Jazz\n",
        "#9 Rock\n",
        "#10 Djent"
      ]
    },
    {
      "cell_type": "code",
      "execution_count": 15,
      "id": "cb1d6d84",
      "metadata": {
        "colab": {
          "base_uri": "https://localhost:8080/"
        },
        "id": "cb1d6d84",
        "outputId": "11d9d423-1731-4438-f3ca-ee4ced535ea6"
      },
      "outputs": [
        {
          "output_type": "stream",
          "name": "stdout",
          "text": [
            "5\n",
            "9\n",
            "10\n"
          ]
        }
      ],
      "source": [
        "#Y por supuesto, también se pueden iterar las listas usando los índices como hemos visto al principio,\n",
        "# y haciendo uso de len(), que nos devuelve la longitud de la lista.\n",
        "lista1 = [5, 9, 10]\n",
        "for i in range(0, len(lista)):\n",
        "    print(lista1[i])\n",
        "#5\n",
        "#9\n",
        "#10"
      ]
    },
    {
      "cell_type": "markdown",
      "id": "7e2c1ed9",
      "metadata": {
        "id": "7e2c1ed9"
      },
      "source": [
        "## Métodos listas\n",
        "append(<obj>)\n",
        "El método append() añade un elemento al final de la lista."
      ]
    },
    {
      "cell_type": "code",
      "execution_count": 16,
      "id": "47c7810c",
      "metadata": {
        "colab": {
          "base_uri": "https://localhost:8080/"
        },
        "id": "47c7810c",
        "outputId": "53e2241f-dcb7-420f-e446-0d0fe899ea3c"
      },
      "outputs": [
        {
          "output_type": "stream",
          "name": "stdout",
          "text": [
            "[1, 2, 3]\n"
          ]
        }
      ],
      "source": [
        "l = [1, 2]\n",
        "l.append(3)\n",
        "print(l) #[1, 2, 3]"
      ]
    },
    {
      "cell_type": "code",
      "execution_count": 17,
      "id": "ddb04f03",
      "metadata": {
        "colab": {
          "base_uri": "https://localhost:8080/"
        },
        "id": "ddb04f03",
        "outputId": "afcf77ee-c660-4d6d-93b9-4220727921b6"
      },
      "outputs": [
        {
          "output_type": "stream",
          "name": "stdout",
          "text": [
            "[1, 2, 3]\n"
          ]
        }
      ],
      "source": [
        "# extend(<iterable>)\n",
        "# El método extend() permite añadir una lista a la lista inicial.\n",
        "l = [1, 3]\n",
        "l.insert(1, 2)\n",
        "print(l) #[1, 2, 3]"
      ]
    },
    {
      "cell_type": "code",
      "execution_count": 18,
      "id": "a300fb23",
      "metadata": {
        "colab": {
          "base_uri": "https://localhost:8080/"
        },
        "id": "a300fb23",
        "outputId": "dbe16144-d400-442e-da69-c1c651d1e12e"
      },
      "outputs": [
        {
          "output_type": "stream",
          "name": "stdout",
          "text": [
            "[1, 2]\n"
          ]
        }
      ],
      "source": [
        "#remove(<obj>)\n",
        "#El método remove() recibe como argumento un objeto y lo borra de la lista.\n",
        "l = [1, 2, 3]\n",
        "l.remove(3)\n",
        "print(l) #[1, 2]"
      ]
    },
    {
      "cell_type": "code",
      "execution_count": 19,
      "id": "ab50b69b",
      "metadata": {
        "colab": {
          "base_uri": "https://localhost:8080/"
        },
        "id": "ab50b69b",
        "outputId": "2d286492-4ca1-4674-e08f-5942c0458089"
      },
      "outputs": [
        {
          "output_type": "stream",
          "name": "stdout",
          "text": [
            "[1, 2]\n"
          ]
        }
      ],
      "source": [
        "#pop(index=-1)\n",
        "# El método pop() elimina por defecto el último elemento de la lista,\n",
        "# pero si se pasa como parámetro un índice permite borrar elementos diferentes al último.\n",
        "l = [1, 2, 3]\n",
        "l.pop()\n",
        "print(l) #[1, 2]"
      ]
    },
    {
      "cell_type": "code",
      "execution_count": 20,
      "id": "ece12439",
      "metadata": {
        "colab": {
          "base_uri": "https://localhost:8080/"
        },
        "id": "ece12439",
        "outputId": "17eef641-3531-481d-fe24-7636215c555c"
      },
      "outputs": [
        {
          "output_type": "stream",
          "name": "stdout",
          "text": [
            "[3, 2, 1]\n"
          ]
        }
      ],
      "source": [
        "# reverse()\n",
        "# El método reverse() inverte el órden de la lista.\n",
        "l = [1, 2, 3]\n",
        "l.reverse()\n",
        "print(l) #[3, 2, 1]"
      ]
    },
    {
      "cell_type": "code",
      "execution_count": 21,
      "id": "6168bb63",
      "metadata": {
        "colab": {
          "base_uri": "https://localhost:8080/"
        },
        "id": "6168bb63",
        "outputId": "71483cfa-8532-457c-d84c-2feff3706f59"
      },
      "outputs": [
        {
          "output_type": "stream",
          "name": "stdout",
          "text": [
            "[1, 2, 3]\n"
          ]
        }
      ],
      "source": [
        "# sort()\n",
        "# El método sort() ordena los elementos de menos a mayor por defecto.\n",
        "l = [3, 1, 2]\n",
        "l.sort()\n",
        "print(l) #[1, 2, 3]"
      ]
    },
    {
      "cell_type": "code",
      "execution_count": 22,
      "id": "d238f3e3",
      "metadata": {
        "colab": {
          "base_uri": "https://localhost:8080/"
        },
        "id": "d238f3e3",
        "outputId": "4d53972b-2bec-4587-b2c9-c54a14cd6ea9"
      },
      "outputs": [
        {
          "output_type": "stream",
          "name": "stdout",
          "text": [
            "[3, 2, 1]\n"
          ]
        }
      ],
      "source": [
        "# Y también permite ordenar de mayor a menor si se pasa como parámetro reverse=True\n",
        "l = [3, 1, 2]\n",
        "l.sort(reverse=True)\n",
        "print(l) #[3, 2, 1]"
      ]
    },
    {
      "cell_type": "code",
      "execution_count": 23,
      "id": "06c643c9",
      "metadata": {
        "colab": {
          "base_uri": "https://localhost:8080/"
        },
        "id": "06c643c9",
        "outputId": "66e9aeb3-5f6b-4644-81b7-e222f2f62dba"
      },
      "outputs": [
        {
          "output_type": "stream",
          "name": "stdout",
          "text": [
            "1\n"
          ]
        }
      ],
      "source": [
        "# index(<obj>[,index])\n",
        "#El método index() recibe como parámetro un objeto y devuelve el índice de su primera aparición.\n",
        "#Como hemos visto en otras ocasiones, el índice del primer elemento es el 0.\n",
        "l = [\"Periphery\", \"Intervals\", \"Monuments\"]\n",
        "print(l.index(\"Intervals\"))"
      ]
    },
    {
      "cell_type": "code",
      "execution_count": 24,
      "id": "30439223",
      "metadata": {
        "colab": {
          "base_uri": "https://localhost:8080/"
        },
        "id": "30439223",
        "outputId": "bba4ccfc-e15e-4b49-deb9-5597d371cfad"
      },
      "outputs": [
        {
          "output_type": "stream",
          "name": "stdout",
          "text": [
            "5\n"
          ]
        }
      ],
      "source": [
        "#También permite introducir un parámetro opcional que representa el índice desde el que comenzar la búsqueda del objeto.\n",
        "#Es como si ignorara todo lo que hay antes de ese índice para la búsqueda, en este caso el 4.\n",
        "l = [1, 1, 1, 1, 2, 1, 4, 5]\n",
        "print(l.index(1, 4)) #5"
      ]
    },
    {
      "cell_type": "markdown",
      "id": "48610ceb",
      "metadata": {
        "id": "48610ceb"
      },
      "source": [
        "## METACOGNICIÓN"
      ]
    },
    {
      "cell_type": "code",
      "execution_count": 25,
      "id": "4482502e",
      "metadata": {
        "id": "4482502e"
      },
      "outputs": [],
      "source": [
        "#Elabora un programa que lea un arreglo de 10 posiciones que contenga las edades de 10 de sus compañeros,\n",
        "#calcule el promedio de las edades, obtenga la edad mayor y la edad menor. Al final imprima todos los elementos de la lista"
      ]
    },
    {
      "cell_type": "code",
      "execution_count": 26,
      "id": "767134d7",
      "metadata": {
        "id": "767134d7"
      },
      "outputs": [],
      "source": [
        "#Elabore un programa que lea un arreglo de 14 posiciones que contenga los sueldos de los trabajadores de una empresa\n",
        "#agregue el sueldo de un empleado más de $2,500.00, Calcule la nomina total (suma de todos los sueldos) ordene el arreglo\n",
        "#Ordene los datos, elimine el primer elemento de la fila, Al final imprima todos los elementos de la lista"
      ]
    },
    {
      "cell_type": "markdown",
      "source": [
        "CODIGO 1"
      ],
      "metadata": {
        "id": "uNFlfSbOtP21"
      },
      "id": "uNFlfSbOtP21"
    },
    {
      "cell_type": "code",
      "source": [
        "# Inicializar el arreglo de edades\n",
        "edades = []\n",
        "\n",
        "# Leer las edades de los compañeros\n",
        "for i in range(10):\n",
        "    edad = int(input(f\"Ingrese la edad del compañero {i + 1}: \"))\n",
        "    edades.append(edad)\n",
        "\n",
        "# Calcular el promedio de las edades\n",
        "promedio = sum(edades) / len(edades)\n",
        "\n",
        "# Obtener la edad mayor y la edad menor\n",
        "edad_mayor = max(edades)\n",
        "edad_menor = min(edades)\n",
        "\n",
        "# Imprimir el promedio, la edad mayor y la edad menor\n",
        "print(f\"Promedio de edades: {promedio}\")\n",
        "print(f\"Edad mayor: {edad_mayor}\")\n",
        "print(f\"Edad menor: {edad_menor}\")\n",
        "\n",
        "# Imprimir todos los elementos de la lista\n",
        "print(\"Edades de los compañeros:\")\n",
        "print(edades)"
      ],
      "metadata": {
        "colab": {
          "base_uri": "https://localhost:8080/"
        },
        "id": "hxE7gtcktSy8",
        "outputId": "71c66dad-5a9e-49bb-fcfa-e86cce8b84cf"
      },
      "id": "hxE7gtcktSy8",
      "execution_count": 27,
      "outputs": [
        {
          "output_type": "stream",
          "name": "stdout",
          "text": [
            "Ingrese la edad del compañero 1: 17\n",
            "Ingrese la edad del compañero 2: 18\n",
            "Ingrese la edad del compañero 3: 18\n",
            "Ingrese la edad del compañero 4: 17\n",
            "Ingrese la edad del compañero 5: 18\n",
            "Ingrese la edad del compañero 6: 16\n",
            "Ingrese la edad del compañero 7: 17\n",
            "Ingrese la edad del compañero 8: 18\n",
            "Ingrese la edad del compañero 9: 18\n",
            "Ingrese la edad del compañero 10: 17\n",
            "Promedio de edades: 17.4\n",
            "Edad mayor: 18\n",
            "Edad menor: 16\n",
            "Edades de los compañeros:\n",
            "[17, 18, 18, 17, 18, 16, 17, 18, 18, 17]\n"
          ]
        }
      ]
    },
    {
      "cell_type": "markdown",
      "source": [
        "CODIGO 2"
      ],
      "metadata": {
        "id": "06rvHia_uK9G"
      },
      "id": "06rvHia_uK9G"
    },
    {
      "cell_type": "code",
      "source": [
        "# Inicializar el arreglo de sueldos\n",
        "sueldos = []\n",
        "\n",
        "# Leer los sueldos de los trabajadores\n",
        "for i in range(14):\n",
        "    sueldo = float(input(f\"Ingrese el sueldo del trabajador {i + 1}: \"))\n",
        "    sueldos.append(sueldo)\n",
        "\n",
        "# Agregar el sueldo de un empleado más de $2,500.00\n",
        "sueldo_nuevo = float(input(\"Ingrese el sueldo del nuevo empleado: \"))\n",
        "if sueldo_nuevo > 2500.0:\n",
        "    sueldos.append(sueldo_nuevo)\n",
        "else:\n",
        "    print(\"El sueldo debe ser mayor a $2,500.00\")\n",
        "\n",
        "# Calcular la nómina total\n",
        "nomina_total = sum(sueldos)\n",
        "\n",
        "# Ordenar el arreglo de sueldos\n",
        "sueldos.sort()\n",
        "\n",
        "# Eliminar el primer elemento de la lista\n",
        "sueldos.pop(0)\n",
        "\n",
        "# Imprimir la nómina total, la lista ordenada y todos los elementos de la lista\n",
        "print(f\"Nómina total: {nomina_total}\")\n",
        "print(\"Sueldos ordenados:\")\n",
        "print(sueldos)\n",
        "print(\"Todos los sueldos:\")\n",
        "print(sueldos)"
      ],
      "metadata": {
        "colab": {
          "base_uri": "https://localhost:8080/"
        },
        "id": "71IKZk1kuNLd",
        "outputId": "1ca3af81-0328-4b43-fc66-ac2688981db8"
      },
      "id": "71IKZk1kuNLd",
      "execution_count": 28,
      "outputs": [
        {
          "output_type": "stream",
          "name": "stdout",
          "text": [
            "Ingrese el sueldo del trabajador 1: 2500\n",
            "Ingrese el sueldo del trabajador 2: 3000\n",
            "Ingrese el sueldo del trabajador 3: 2600\n",
            "Ingrese el sueldo del trabajador 4: 2550\n",
            "Ingrese el sueldo del trabajador 5: 2800\n",
            "Ingrese el sueldo del trabajador 6: 2490\n",
            "Ingrese el sueldo del trabajador 7: 2700\n",
            "Ingrese el sueldo del trabajador 8: 2900\n",
            "Ingrese el sueldo del trabajador 9: 3100\n",
            "Ingrese el sueldo del trabajador 10: 2750\n",
            "Ingrese el sueldo del trabajador 11: 2980\n",
            "Ingrese el sueldo del trabajador 12: 2690\n",
            "Ingrese el sueldo del trabajador 13: 2650\n",
            "Ingrese el sueldo del trabajador 14: 2670\n",
            "Ingrese el sueldo del nuevo empleado: 3020\n",
            "Nómina total: 41400.0\n",
            "Sueldos ordenados:\n",
            "[2500.0, 2550.0, 2600.0, 2650.0, 2670.0, 2690.0, 2700.0, 2750.0, 2800.0, 2900.0, 2980.0, 3000.0, 3020.0, 3100.0]\n",
            "Todos los sueldos:\n",
            "[2500.0, 2550.0, 2600.0, 2650.0, 2670.0, 2690.0, 2700.0, 2750.0, 2800.0, 2900.0, 2980.0, 3000.0, 3020.0, 3100.0]\n"
          ]
        }
      ]
    }
  ],
  "metadata": {
    "kernelspec": {
      "display_name": "Python 3 (ipykernel)",
      "language": "python",
      "name": "python3"
    },
    "language_info": {
      "codemirror_mode": {
        "name": "ipython",
        "version": 3
      },
      "file_extension": ".py",
      "mimetype": "text/x-python",
      "name": "python",
      "nbconvert_exporter": "python",
      "pygments_lexer": "ipython3",
      "version": "3.9.13"
    },
    "colab": {
      "provenance": [],
      "include_colab_link": true
    }
  },
  "nbformat": 4,
  "nbformat_minor": 5
}